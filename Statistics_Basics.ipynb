{
  "nbformat": 4,
  "nbformat_minor": 0,
  "metadata": {
    "colab": {
      "provenance": []
    },
    "kernelspec": {
      "name": "python3",
      "display_name": "Python 3"
    },
    "language_info": {
      "name": "python"
    }
  },
  "cells": [
    {
      "cell_type": "markdown",
      "source": [
        "# Statistics Basics"
      ],
      "metadata": {
        "id": "HVA1rLWJDgqF"
      }
    },
    {
      "cell_type": "markdown",
      "source": [
        "1. What is statistics, and why is it important?\n",
        "  - Statistics is a branch of mathematics focused on collecting, analyzing, interpreting, and presenting data. It's important because it helps us understand patterns, make informed decisions, and draw meaningful conclusions from information, even when it's complex or uncertain.\n",
        "2. What are the two main types of statistics?\n",
        "  - The two main types of statistics are descriptive statistics and inferential statistics. Descriptive statistics: describes the data you have. Inferential statistics: uses that data to make generalizations or predictions about a larger group.\n",
        "3. What are descriptive statistics?\n",
        "  - Descriptive statistics are used to summarize, organize, and describe the characteristics of a dataset in a meaningful way, without making inferences about a larger population. They focus on presenting the main features of the data through measures of central tendency, variability, and distribution shape.\n",
        "4. What is inferential statistics?\n",
        "  - Inferential statistics is a branch of statistics that uses sample data to draw conclusions or make predictions about a larger population. It involves using statistical techniques to generalize findings from a sample to the entire population from which the sample was drawn.\n",
        "5. What is sampling in statistics?\n",
        "  - In statistics, sampling is the process of selecting a subset of individuals or data points from a larger population to study and draw conclusions about the entire population. It's used when it's impractical or impossible to analyze the whole population due to size, cost, or time constraints.\n",
        "6. What are the different types of sampling methods?\n",
        "  - Sampling methods can be broadly categorized into probability (or random) sampling and non-probability (or non-random) sampling. Within each category, there are several specific techniques.\n",
        "7. What is the difference between random and non-random sampling?\n",
        "  - Random and non-random sampling are two main approaches to selecting a sample from a population for research or analysis. The key difference lies in the selection process: random sampling uses chance to ensure each member has an equal opportunity of being selected, while non-random sampling uses criteria like convenience, judgment, or specific researcher choices.\n",
        "8. Define and give examples of qualitative and quantitative data.\n",
        "  - Qualitative data describes qualities or characteristics that can't be measured numerically, while quantitative data describes quantities that can be measured numerically. Examples of qualitative data are, The color of a flower (red, blue, yellow), The taste of an apple (sweet, tart, acidic). A person's opinion on a product (positive, negative, neutral), so on. Examples of quantitative data are height, weight, length, age.\n",
        "9. What are the different types of data in statistics?\n",
        "  - In statistics, data is broadly classified into qualitative (categorical) and quantitative (numerical) data. Qualitative data describes qualities or attributes, while quantitative data represents quantities or can be measured numerically. Both types have further subdivisions: qualitative into nominal and ordinal, and quantitative into discrete and continuous.\n",
        "10. Explain nominal, ordinal, interval, and ratio levels of measurement.\n",
        "  - The four levels of measurement, from least to most sophisticated, are   nominal, ordinal, interval, and ratio. Nominal scales categorize data without any inherent order. Ordinal scales allow for categorization and ranking. Interval scales include equal intervals between values but lack a true zero point. Ratio scales have all the properties of interval scales, plus a true zero. Nominal Level means Numbers or labels are used to identify or classify objects, but there's no inherent order or ranking. Examples Eye color (blue, brown, green), types of fruit (apple, banana, orange), or marital status (single, married, divorced). Ordinal means The order of the categories matters, but the intervals between them are not necessarily equal or meaningful. Examples Education level (high school, bachelor's, master's), satisfaction ratings (very dissatisfied, dissatisfied, neutral, satisfied, very satisfied), or rankings in a competition.\n",
        "11. What is the measure of central tendency?\n",
        "  - A measure of central tendency is a single value that attempts to describe a set of data by identifying the central position within that set of data. It's a way to summarize a dataset with a representative value that indicates where the \"middle\" or \"center\" of the data lies. The three most common measures of central tendency are the mean, median, and mode.\n",
        "12. Define mean, median, and mode.\n",
        "  - Mean, median, and mode are all measures of central tendency in a set of data. The mean is the average of the numbers, calculated by summing them and dividing by the count. The median is the middle value when the data is ordered, and the mode is the value that appears most frequently. Mean is the most common type of average. It's found by adding all the values in a dataset and then dividing by the total number of values. For example, the mean of the numbers 2, 4, and 6 is (2 + 4 + 6) / 3 = 4. Median is the middle value in a dataset that has been arranged in ascending or descending order. If there's an even number of values, the median is the average of the two middle values. For example, in the dataset 2, 4, 6, 8, the median is (4 + 6) / 2 = 5. Mode is the  value that appears most often in a dataset. For example, in the dataset 2, 2, 4, 6, 8, the mode is 2.\n",
        "13. What is the significance of the measure of central tendency?\n",
        "  - Measures of central tendency, like mean, median, and mode, are crucial in statistics because they provide a single, representative value to describe a dataset. They help condense large datasets into a more manageable form, facilitating understanding and comparison of different datasets.\n",
        "14. What is variance, and how is it calculated?\n",
        "  - Variance is a statistical measure that quantifies the spread or dispersion of data points in a dataset. It indicates how much the individual values in a dataset deviate from the mean (average) value. A higher variance means the data points are more spread out, while a lower variance indicates they are clustered closer to the mean.\n",
        "15. What is standard deviation, and why is it important?\n",
        "  - Standard deviation is a statistical measure that quantifies the amount of variation or dispersion of a set of values from its mean (average). It's essentially a measure of how spread out the data is. A low standard deviation indicates that the data points tend to be close to the mean, while a high standard deviation suggests that the data points are scattered over a wider range of values. It's important because it helps understand the reliability of the mean, identify outliers, and assess risk in various fields.\n",
        "16. Define and explain the term range in statistics.\n",
        "  - In statistics, the range is a simple measure of variability that represents the difference between the highest and lowest values in a dataset. It provides a quick overview of the spread or dispersion of the data. The range is the difference between the maximum and minimum values within a dataset. Range = Highest Value - Lowest Value.\n",
        "17. What is the difference between variance and standard deviation?\n",
        "  - Variance and standard deviation are both measures of data dispersion, but standard deviation is the square root of the variance. Variance quantifies the average squared difference of data points from the mean, while standard deviation represents the spread of data around the mean, expressed in the same units as the original data.\n",
        "18. What is skewness in a dataset?\n",
        "  - Skewness in a dataset refers to the measure of the asymmetry or lack of symmetry in the distribution of data points around its mean. It indicates whether the data is concentrated more on one side of the mean than the other. A dataset can be skewed to the left (negative skew), to the right (positive skew), or be symmetrical (zero skew).\n",
        "19. What does it mean if a dataset is positively or negatively skewed?\n",
        "  - In statistics, skewness describes the asymmetry of a data distribution. A positively skewed distribution has a longer tail on the right side, meaning most values are clustered on the left with a few high outliers. Conversely, a negatively skewed distribution has a longer tail on the left, with most values clustered on the right and some low outliers.\n",
        "20. Define and explain kurtosis.\n",
        "  - Kurtosis is a statistical measure that describes the shape of a probability distribution, specifically the \"peakedness\" or \"tailedness\" of the distribution relative to a normal distribution. It indicates how much the data is concentrated around the mean (peak) and in the tails of the distribution.\n",
        "21. What is the purpose of covariance?\n",
        "  - The purpose of covariance is to measure the degree to which two variables change together. It indicates whether two variables tend to increase or decrease simultaneously (positive covariance) or if one tends to increase as the other decreases (negative covariance). Covariance helps understand the direction of the relationship between variables, but it doesn't measure the strength of that relationship.\n",
        "22. What does correlation measure in statistics?\n",
        "  - In statistics, correlation measures the strength and direction of a relationship between two or more variables. It indicates how closely the variables change together, either in the same direction (positive correlation) or in opposite directions (negative correlation). Importantly, correlation does not imply causation; just because two variables are correlated does not mean one causes the other.\n",
        "23. What is the difference between covariance and correlation?\n",
        "  - Covariance and correlation both measure the relationship between two variables, but they differ in how they represent the strength and scale of that relationship. Covariance indicates the direction of the relationship (positive or negative), while correlation also indicates the strength of that relationship and is standardized to a range between -1 and +1.\n",
        "24. What are some real-world applications of statistics?\n",
        "  - Statistics are used in a wide variety of fields to analyze data, identify trends, and make informed decisions. Some examples include Business, Healthcare, Finance, Government, education, sports, environmental science.  \n",
        "\n",
        "                "
      ],
      "metadata": {
        "id": "WpUYgfjYDoLM"
      }
    },
    {
      "cell_type": "markdown",
      "source": [
        "# Practical questions"
      ],
      "metadata": {
        "id": "gr__GYwLKtBn"
      }
    },
    {
      "cell_type": "code",
      "source": [
        "# 1. How do you calculate the mean, median, and mode of a dataset?\n",
        "\n",
        "from statistics import mean, median, mode\n",
        "\n",
        "data = [1,2,3,4,5,6,7]\n",
        "print(\"mean:\", mean(data))\n",
        "print(\"median:\", median (data))\n",
        "print(\"mode:\", mode (data))\n",
        "\n"
      ],
      "metadata": {
        "colab": {
          "base_uri": "https://localhost:8080/"
        },
        "id": "K6nH0PqSKptj",
        "outputId": "f2b46c05-fd40-42b0-f96f-67df6c64c142"
      },
      "execution_count": null,
      "outputs": [
        {
          "output_type": "stream",
          "name": "stdout",
          "text": [
            "mean: 4\n",
            "median: 4\n",
            "mode: 1\n"
          ]
        }
      ]
    },
    {
      "cell_type": "code",
      "source": [
        "# 2. Write a Python program to compute the variance and standard deviation of a dataset.\n",
        "\n",
        "import statistics as s\n",
        "\n",
        "data= [10,20,30,40,50]\n",
        "\n",
        "vars=s.variance(data)\n",
        "dev=s.stdev(data)\n",
        "print(\"variance is:\",vars)\n",
        "print(\"standard deviation is:\",dev)\n",
        "\n"
      ],
      "metadata": {
        "colab": {
          "base_uri": "https://localhost:8080/"
        },
        "id": "cQIOUsKvRlmZ",
        "outputId": "6b4c573d-39d9-4222-f33f-e498ec82f42a"
      },
      "execution_count": null,
      "outputs": [
        {
          "output_type": "stream",
          "name": "stdout",
          "text": [
            "variance is: 250\n",
            "standard deviation is: 15.811388300841896\n"
          ]
        }
      ]
    },
    {
      "cell_type": "code",
      "source": [
        "# 3. Create a dataset and classify it into nominal, ordinal, interval, and ratio types.\n",
        "\n",
        "dataset = {\n",
        "    \"Nominal\": [\"Red\", \"Blue\", \"Green\"],\n",
        "    \"Ordinal\": [\"Small\", \"Medium\", \"Large\"],\n",
        "    \"Interval\": [-10, 0, 10],\n",
        "    \"Ratio\": [5, 10, 15]\n",
        "}\n",
        "dataset\n",
        "\n",
        "\n",
        "\n",
        "\n"
      ],
      "metadata": {
        "colab": {
          "base_uri": "https://localhost:8080/"
        },
        "id": "LztTR6utU4xW",
        "outputId": "426583d4-b182-4837-c073-8bc9a3fb4e75"
      },
      "execution_count": null,
      "outputs": [
        {
          "output_type": "execute_result",
          "data": {
            "text/plain": [
              "{'Nominal': ['Red', 'Blue', 'Green'],\n",
              " 'Ordinal': ['Small', 'Medium', 'Large'],\n",
              " 'Interval': [-10, 0, 10],\n",
              " 'Ratio': [5, 10, 15]}"
            ]
          },
          "metadata": {},
          "execution_count": 3
        }
      ]
    },
    {
      "cell_type": "code",
      "source": [
        "# 4. Implement sampling techniques like random sampling and stratified sampling.\n",
        "\n",
        "from sklearn.model_selection import train_test_split\n",
        "\n",
        "data = range(1, 101)\n",
        "import numpy as np\n",
        "\n",
        "random_sample = np.random.choice(data, 10, replace=False)\n",
        "\n",
        "# For stratified sampling, assuming some stratification variable\n",
        "labels = ['A', 'B']\n",
        "stratified_sample, _ = train_test_split(data, test_size=0.9, stratify=[labels[i%2] for i in data])\n",
        "\n",
        "random_sample, stratified_sample"
      ],
      "metadata": {
        "colab": {
          "base_uri": "https://localhost:8080/"
        },
        "id": "Q7Hr18pBcB1t",
        "outputId": "c6dca69f-e6a6-4910-ea20-698270b6d9d9"
      },
      "execution_count": null,
      "outputs": [
        {
          "output_type": "execute_result",
          "data": {
            "text/plain": [
              "(array([ 38,  89,  40,  78,  96,  24,  59, 100,  10,  60]),\n",
              " [17, 5, 66, 56, 35, 82, 81, 52, 57, 86])"
            ]
          },
          "metadata": {},
          "execution_count": 11
        }
      ]
    },
    {
      "cell_type": "code",
      "source": [
        "# 5. Write a Python function to calculate the range of a dataset.\n",
        "\n",
        "def calculate_range(data):\n",
        "    return np.max(data) - np.min(data)\n",
        "\n",
        "range_value = calculate_range(data)\n",
        "range_value"
      ],
      "metadata": {
        "colab": {
          "base_uri": "https://localhost:8080/"
        },
        "id": "3joKTLRmdQvk",
        "outputId": "905e11c9-9d9a-48b0-e302-151ba424a3f9"
      },
      "execution_count": null,
      "outputs": [
        {
          "output_type": "execute_result",
          "data": {
            "text/plain": [
              "np.int64(99)"
            ]
          },
          "metadata": {},
          "execution_count": 12
        }
      ]
    },
    {
      "cell_type": "code",
      "source": [
        "# 6. Create a dataset and plot its histogram to visualize skewness.\n",
        "\n",
        "import matplotlib.pyplot as plt\n",
        "\n",
        "data = np.random.normal(0, 1, 1000)  # Normally distributed\n",
        "plt.hist(data, bins=30)\n",
        "plt.title('Histogram of Data')\n",
        "plt.show()"
      ],
      "metadata": {
        "colab": {
          "base_uri": "https://localhost:8080/",
          "height": 452
        },
        "id": "S7eH69T_dc5z",
        "outputId": "0aa5fc3a-5249-4229-c61b-8e6abd546ef5"
      },
      "execution_count": null,
      "outputs": [
        {
          "output_type": "display_data",
          "data": {
            "text/plain": [
              "<Figure size 640x480 with 1 Axes>"
            ],
            "image/png": "[encoded data removed]"
          },
          "metadata": {}
        }
      ]
    },
    {
      "cell_type": "code",
      "source": [
        "# 7. Calculate skewness and kurtosis of a dataset using Python libraries.\n",
        "\n",
        "from scipy.stats import skew, kurtosis\n",
        "\n",
        "skewness = skew(data)\n",
        "kurt = kurtosis(data)\n",
        "\n",
        "skewness, kurt"
      ],
      "metadata": {
        "colab": {
          "base_uri": "https://localhost:8080/"
        },
        "id": "UTTCjwXddnxw",
        "outputId": "333a0299-c37d-4e82-c320-282c9080e594"
      },
      "execution_count": null,
      "outputs": [
        {
          "output_type": "execute_result",
          "data": {
            "text/plain": [
              "(np.float64(0.041885214787841955), np.float64(-0.2275582729210499))"
            ]
          },
          "metadata": {},
          "execution_count": 14
        }
      ]
    },
    {
      "cell_type": "code",
      "source": [
        "# 8. Generate a dataset and demonstrate positive and negative skewness.\n",
        "\n",
        "positive_skewed_data = np.random.exponential(scale=2, size=1000)\n",
        "negative_skewed_data = 1 / (np.random.exponential(scale=1, size=1000) + 1)\n",
        "\n",
        "plt.hist(positive_skewed_data, bins=30)\n",
        "plt.title('Positive Skewness')\n",
        "plt.show()\n",
        "\n",
        "plt.hist(negative_skewed_data, bins=30)\n",
        "plt.title('Negative Skewness')\n",
        "plt.show()"
      ],
      "metadata": {
        "colab": {
          "base_uri": "https://localhost:8080/",
          "height": 887
        },
        "id": "kGUfTUcBd13G",
        "outputId": "fd7d0f5c-91e6-4bc4-b1ac-f28771be4f20"
      },
      "execution_count": null,
      "outputs": [
        {
          "output_type": "display_data",
          "data": {
            "text/plain": [
              "<Figure size 640x480 with 1 Axes>"
            ],
            "image/png": "[encoded data removed]"
          },
          "metadata": {}
        },
        {
          "output_type": "display_data",
          "data": {
            "text/plain": [
              "<Figure size 640x480 with 1 Axes>"
            ],
            "image/png": "[encoded data removed]"
          },
          "metadata": {}
        }
      ]
    },
    {
      "cell_type": "code",
      "source": [
        "# 9. Write a Python script to calculate covariance between two datasets.\n",
        "\n",
        "x = [10, 20, 30]\n",
        "y = [12, 24, 36]\n",
        "covariance = np.cov(x, y)[0][1]\n",
        "covariance"
      ],
      "metadata": {
        "colab": {
          "base_uri": "https://localhost:8080/"
        },
        "id": "2fPyf72ld_Zi",
        "outputId": "e7f2d61b-6d92-4788-abec-20112cdf1c70"
      },
      "execution_count": null,
      "outputs": [
        {
          "output_type": "execute_result",
          "data": {
            "text/plain": [
              "np.float64(120.0)"
            ]
          },
          "metadata": {},
          "execution_count": 16
        }
      ]
    },
    {
      "cell_type": "code",
      "source": [
        "# 10. Write a Python script to calculate the correlation coefficient between two datasets.\n",
        "\n",
        "correlation = np.corrcoef(x, y)[0][1]\n",
        "correlation"
      ],
      "metadata": {
        "colab": {
          "base_uri": "https://localhost:8080/"
        },
        "id": "_Nccq6AkeJMf",
        "outputId": "60414c36-a7e7-420b-b442-561e379254a1"
      },
      "execution_count": null,
      "outputs": [
        {
          "output_type": "execute_result",
          "data": {
            "text/plain": [
              "np.float64(1.0)"
            ]
          },
          "metadata": {},
          "execution_count": 17
        }
      ]
    },
    {
      "cell_type": "code",
      "source": [
        "# 11. Create a scatter plot to visualize the relationship between two variables.\n",
        "\n",
        "plt.scatter(x, y)\n",
        "plt.title('Scatter Plot')\n",
        "plt.xlabel('X')\n",
        "plt.ylabel('Y')\n",
        "plt.show()\n"
      ],
      "metadata": {
        "colab": {
          "base_uri": "https://localhost:8080/",
          "height": 472
        },
        "id": "XxwC6_lfeWB1",
        "outputId": "92790d01-c1ad-411b-e760-118e0c759798"
      },
      "execution_count": null,
      "outputs": [
        {
          "output_type": "display_data",
          "data": {
            "text/plain": [
              "<Figure size 640x480 with 1 Axes>"
            ],
            "image/png": "[encoded data removed]"
          },
          "metadata": {}
        }
      ]
    },
    {
      "cell_type": "code",
      "source": [
        "# 12. Implement and compare simple random sampling and systematic sampling.\n",
        "\n",
        "simple_random = np.random.choice(data, 10, replace=False)\n",
        "\n",
        "# Systematic sampling\n",
        "interval = len(data) // 10\n",
        "systematic_sample = [data[i] for i in range(0, len(data), interval)]\n",
        "\n",
        "simple_random, systematic_sample\n"
      ],
      "metadata": {
        "colab": {
          "base_uri": "https://localhost:8080/"
        },
        "id": "rkOs0Sioetpk",
        "outputId": "fda737fa-42da-47e2-f310-b1560a4b5495"
      },
      "execution_count": null,
      "outputs": [
        {
          "output_type": "execute_result",
          "data": {
            "text/plain": [
              "(array([ 0.09524213,  1.14749463,  0.03940674, -1.48666402,  1.1402802 ,\n",
              "         0.76426605, -1.53274791, -0.46165658,  2.01610294, -0.25497363]),\n",
              " [np.float64(-1.1235307346347736),\n",
              "  np.float64(-0.8682777754444129),\n",
              "  np.float64(-1.3746326085022114),\n",
              "  np.float64(1.7285965095423457),\n",
              "  np.float64(-0.4125314577310065),\n",
              "  np.float64(-0.08991652351128425),\n",
              "  np.float64(0.9850769694419458),\n",
              "  np.float64(-1.040142748209446),\n",
              "  np.float64(-0.17917397027896095),\n",
              "  np.float64(0.09803599016034403)])"
            ]
          },
          "metadata": {},
          "execution_count": 19
        }
      ]
    },
    {
      "cell_type": "code",
      "source": [
        "# 13. Calculate the mean, median, and mode of grouped data.\n",
        "\n",
        "grouped_data = [5, 10, 10, 15, 20]\n",
        "mean = np.mean(grouped_data)\n",
        "median = np.median(grouped_data)\n",
        "mode = s.mode(grouped_data)\n",
        "\n",
        "mean, median, mode\n"
      ],
      "metadata": {
        "colab": {
          "base_uri": "https://localhost:8080/"
        },
        "id": "Wyj4shhLuC3n",
        "outputId": "f6346d33-8f1a-464e-bd62-4d6981c89b51"
      },
      "execution_count": 42,
      "outputs": [
        {
          "output_type": "execute_result",
          "data": {
            "text/plain": [
              "(np.float64(12.0), np.float64(10.0), 10)"
            ]
          },
          "metadata": {},
          "execution_count": 42
        }
      ]
    },
    {
      "cell_type": "code",
      "source": [
        "# 14. Simulate data using Python and calculate its central tendency and dispersion.\n",
        "\n",
        "sim_data = np.random.normal(0, 1, 1000)\n",
        "mean = np.mean(sim_data)\n",
        "median = np.median(sim_data)\n",
        "std_dev = np.std(sim_data)\n",
        "\n",
        "mean, median, std_dev"
      ],
      "metadata": {
        "colab": {
          "base_uri": "https://localhost:8080/"
        },
        "id": "B0V9weNNusXn",
        "outputId": "53c53388-4267-4ef0-8680-950f1a27cc3e"
      },
      "execution_count": null,
      "outputs": [
        {
          "output_type": "execute_result",
          "data": {
            "text/plain": [
              "(np.float64(-0.011451059656471736),\n",
              " np.float64(-0.005305910735224016),\n",
              " np.float64(0.9887657087340401))"
            ]
          },
          "metadata": {},
          "execution_count": 24
        }
      ]
    },
    {
      "cell_type": "code",
      "source": [
        "# 15. Use NumPy or pandas to summarize a dataset’s descriptive statistics.\n",
        "\n",
        "import pandas as pd\n",
        "\n",
        "df = pd.DataFrame(sim_data, columns=['Values'])\n",
        "summary = df.describe()\n",
        "\n",
        "summary"
      ],
      "metadata": {
        "colab": {
          "base_uri": "https://localhost:8080/",
          "height": 300
        },
        "id": "Cd1i5DlCvDEf",
        "outputId": "bf33a8d3-2010-4393-cba0-abe90bc2f383"
      },
      "execution_count": null,
      "outputs": [
        {
          "output_type": "execute_result",
          "data": {
            "text/plain": [
              "            Values\n",
              "count  1000.000000\n",
              "mean     -0.011451\n",
              "std       0.989260\n",
              "min      -2.854155\n",
              "25%      -0.664361\n",
              "50%      -0.005306\n",
              "75%       0.655208\n",
              "max       2.828344"
            ],
            "text/html": [
              "\n",
              "  <div id=\"df-058ad061-15b7-49d3-9286-28677b11855e\" class=\"colab-df-container\">\n",
              "    <div>\n",
              "<style scoped>\n",
              "    .dataframe tbody tr th:only-of-type {\n",
              "        vertical-align: middle;\n",
              "    }\n",
              "\n",
              "    .dataframe tbody tr th {\n",
              "        vertical-align: top;\n",
              "    }\n",
              "\n",
              "    .dataframe thead th {\n",
              "        text-align: right;\n",
              "    }\n",
              "</style>\n",
              "<table border=\"1\" class=\"dataframe\">\n",
              "  <thead>\n",
              "    <tr style=\"text-align: right;\">\n",
              "      <th></th>\n",
              "      <th>Values</th>\n",
              "    </tr>\n",
              "  </thead>\n",
              "  <tbody>\n",
              "    <tr>\n",
              "      <th>count</th>\n",
              "      <td>1000.000000</td>\n",
              "    </tr>\n",
              "    <tr>\n",
              "      <th>mean</th>\n",
              "      <td>-0.011451</td>\n",
              "    </tr>\n",
              "    <tr>\n",
              "      <th>std</th>\n",
              "      <td>0.989260</td>\n",
              "    </tr>\n",
              "    <tr>\n",
              "      <th>min</th>\n",
              "      <td>-2.854155</td>\n",
              "    </tr>\n",
              "    <tr>\n",
              "      <th>25%</th>\n",
              "      <td>-0.664361</td>\n",
              "    </tr>\n",
              "    <tr>\n",
              "      <th>50%</th>\n",
              "      <td>-0.005306</td>\n",
              "    </tr>\n",
              "    <tr>\n",
              "      <th>75%</th>\n",
              "      <td>0.655208</td>\n",
              "    </tr>\n",
              "    <tr>\n",
              "      <th>max</th>\n",
              "      <td>2.828344</td>\n",
              "    </tr>\n",
              "  </tbody>\n",
              "</table>\n",
              "</div>\n",
              "    <div class=\"colab-df-buttons\">\n",
              "\n",
              "  <div class=\"colab-df-container\">\n",
              "    <button class=\"colab-df-convert\" onclick=\"convertToInteractive('df-058ad061-15b7-49d3-9286-28677b11855e')\"\n",
              "            title=\"Convert this dataframe to an interactive table.\"\n",
              "            style=\"display:none;\">\n",
              "\n",
              "  <svg xmlns=\"http://www.w3.org/2000/svg\" height=\"24px\" viewBox=\"0 -960 960 960\">\n",
              "    <path d=\"M120-120v-720h720v720H120Zm60-500h600v-160H180v160Zm220 220h160v-160H400v160Zm0 220h160v-160H400v160ZM180-400h160v-160H180v160Zm440 0h160v-160H620v160ZM180-180h160v-160H180v160Zm440 0h160v-160H620v160Z\"/>\n",
              "  </svg>\n",
              "    </button>\n",
              "\n",
              "  <style>\n",
              "    .colab-df-container {\n",
              "      display:flex;\n",
              "      gap: 12px;\n",
              "    }\n",
              "\n",
              "    .colab-df-convert {\n",
              "      background-color: #E8F0FE;\n",
              "      border: none;\n",
              "      border-radius: 50%;\n",
              "      cursor: pointer;\n",
              "      display: none;\n",
              "      fill: #1967D2;\n",
              "      height: 32px;\n",
              "      padding: 0 0 0 0;\n",
              "      width: 32px;\n",
              "    }\n",
              "\n",
              "    .colab-df-convert:hover {\n",
              "      background-color: #E2EBFA;\n",
              "      box-shadow: 0px 1px 2px rgba(60, 64, 67, 0.3), 0px 1px 3px 1px rgba(60, 64, 67, 0.15);\n",
              "      fill: #174EA6;\n",
              "    }\n",
              "\n",
              "    .colab-df-buttons div {\n",
              "      margin-bottom: 4px;\n",
              "    }\n",
              "\n",
              "    [theme=dark] .colab-df-convert {\n",
              "      background-color: #3B4455;\n",
              "      fill: #D2E3FC;\n",
              "    }\n",
              "\n",
              "    [theme=dark] .colab-df-convert:hover {\n",
              "      background-color: #434B5C;\n",
              "      box-shadow: 0px 1px 3px 1px rgba(0, 0, 0, 0.15);\n",
              "      filter: drop-shadow(0px 1px 2px rgba(0, 0, 0, 0.3));\n",
              "      fill: #FFFFFF;\n",
              "    }\n",
              "  </style>\n",
              "\n",
              "    <script>\n",
              "      const buttonEl =\n",
              "        document.querySelector('#df-058ad061-15b7-49d3-9286-28677b11855e button.colab-df-convert');\n",
              "      buttonEl.style.display =\n",
              "        google.colab.kernel.accessAllowed ? 'block' : 'none';\n",
              "\n",
              "      async function convertToInteractive(key) {\n",
              "        const element = document.querySelector('#df-058ad061-15b7-49d3-9286-28677b11855e');\n",
              "        const dataTable =\n",
              "          await google.colab.kernel.invokeFunction('convertToInteractive',\n",
              "                                                    [key], {});\n",
              "        if (!dataTable) return;\n",
              "\n",
              "        const docLinkHtml = 'Like what you see? Visit the ' +\n",
              "          '<a target=\"_blank\" href=https://colab.research.google.com/notebooks/data_table.ipynb>data table notebook</a>'\n",
              "          + ' to learn more about interactive tables.';\n",
              "        element.innerHTML = '';\n",
              "        dataTable['output_type'] = 'display_data';\n",
              "        await google.colab.output.renderOutput(dataTable, element);\n",
              "        const docLink = document.createElement('div');\n",
              "        docLink.innerHTML = docLinkHtml;\n",
              "        element.appendChild(docLink);\n",
              "      }\n",
              "    </script>\n",
              "  </div>\n",
              "\n",
              "\n",
              "    <div id=\"df-2ebfd72d-466e-449b-8ae2-dc85708a75a8\">\n",
              "      <button class=\"colab-df-quickchart\" onclick=\"quickchart('df-2ebfd72d-466e-449b-8ae2-dc85708a75a8')\"\n",
              "                title=\"Suggest charts\"\n",
              "                style=\"display:none;\">\n",
              "\n",
              "<svg xmlns=\"http://www.w3.org/2000/svg\" height=\"24px\"viewBox=\"0 0 24 24\"\n",
              "     width=\"24px\">\n",
              "    <g>\n",
              "        <path d=\"M19 3H5c-1.1 0-2 .9-2 2v14c0 1.1.9 2 2 2h14c1.1 0 2-.9 2-2V5c0-1.1-.9-2-2-2zM9 17H7v-7h2v7zm4 0h-2V7h2v10zm4 0h-2v-4h2v4z\"/>\n",
              "    </g>\n",
              "</svg>\n",
              "      </button>\n",
              "\n",
              "<style>\n",
              "  .colab-df-quickchart {\n",
              "      --bg-color: #E8F0FE;\n",
              "      --fill-color: #1967D2;\n",
              "      --hover-bg-color: #E2EBFA;\n",
              "      --hover-fill-color: #174EA6;\n",
              "      --disabled-fill-color: #AAA;\n",
              "      --disabled-bg-color: #DDD;\n",
              "  }\n",
              "\n",
              "  [theme=dark] .colab-df-quickchart {\n",
              "      --bg-color: #3B4455;\n",
              "      --fill-color: #D2E3FC;\n",
              "      --hover-bg-color: #434B5C;\n",
              "      --hover-fill-color: #FFFFFF;\n",
              "      --disabled-bg-color: #3B4455;\n",
              "      --disabled-fill-color: #666;\n",
              "  }\n",
              "\n",
              "  .colab-df-quickchart {\n",
              "    background-color: var(--bg-color);\n",
              "    border: none;\n",
              "    border-radius: 50%;\n",
              "    cursor: pointer;\n",
              "    display: none;\n",
              "    fill: var(--fill-color);\n",
              "    height: 32px;\n",
              "    padding: 0;\n",
              "    width: 32px;\n",
              "  }\n",
              "\n",
              "  .colab-df-quickchart:hover {\n",
              "    background-color: var(--hover-bg-color);\n",
              "    box-shadow: 0 1px 2px rgba(60, 64, 67, 0.3), 0 1px 3px 1px rgba(60, 64, 67, 0.15);\n",
              "    fill: var(--button-hover-fill-color);\n",
              "  }\n",
              "\n",
              "  .colab-df-quickchart-complete:disabled,\n",
              "  .colab-df-quickchart-complete:disabled:hover {\n",
              "    background-color: var(--disabled-bg-color);\n",
              "    fill: var(--disabled-fill-color);\n",
              "    box-shadow: none;\n",
              "  }\n",
              "\n",
              "  .colab-df-spinner {\n",
              "    border: 2px solid var(--fill-color);\n",
              "    border-color: transparent;\n",
              "    border-bottom-color: var(--fill-color);\n",
              "    animation:\n",
              "      spin 1s steps(1) infinite;\n",
              "  }\n",
              "\n",
              "  @keyframes spin {\n",
              "    0% {\n",
              "      border-color: transparent;\n",
              "      border-bottom-color: var(--fill-color);\n",
              "      border-left-color: var(--fill-color);\n",
              "    }\n",
              "    20% {\n",
              "      border-color: transparent;\n",
              "      border-left-color: var(--fill-color);\n",
              "      border-top-color: var(--fill-color);\n",
              "    }\n",
              "    30% {\n",
              "      border-color: transparent;\n",
              "      border-left-color: var(--fill-color);\n",
              "      border-top-color: var(--fill-color);\n",
              "      border-right-color: var(--fill-color);\n",
              "    }\n",
              "    40% {\n",
              "      border-color: transparent;\n",
              "      border-right-color: var(--fill-color);\n",
              "      border-top-color: var(--fill-color);\n",
              "    }\n",
              "    60% {\n",
              "      border-color: transparent;\n",
              "      border-right-color: var(--fill-color);\n",
              "    }\n",
              "    80% {\n",
              "      border-color: transparent;\n",
              "      border-right-color: var(--fill-color);\n",
              "      border-bottom-color: var(--fill-color);\n",
              "    }\n",
              "    90% {\n",
              "      border-color: transparent;\n",
              "      border-bottom-color: var(--fill-color);\n",
              "    }\n",
              "  }\n",
              "</style>\n",
              "\n",
              "      <script>\n",
              "        async function quickchart(key) {\n",
              "          const quickchartButtonEl =\n",
              "            document.querySelector('#' + key + ' button');\n",
              "          quickchartButtonEl.disabled = true;  // To prevent multiple clicks.\n",
              "          quickchartButtonEl.classList.add('colab-df-spinner');\n",
              "          try {\n",
              "            const charts = await google.colab.kernel.invokeFunction(\n",
              "                'suggestCharts', [key], {});\n",
              "          } catch (error) {\n",
              "            console.error('Error during call to suggestCharts:', error);\n",
              "          }\n",
              "          quickchartButtonEl.classList.remove('colab-df-spinner');\n",
              "          quickchartButtonEl.classList.add('colab-df-quickchart-complete');\n",
              "        }\n",
              "        (() => {\n",
              "          let quickchartButtonEl =\n",
              "            document.querySelector('#df-2ebfd72d-466e-449b-8ae2-dc85708a75a8 button');\n",
              "          quickchartButtonEl.style.display =\n",
              "            google.colab.kernel.accessAllowed ? 'block' : 'none';\n",
              "        })();\n",
              "      </script>\n",
              "    </div>\n",
              "\n",
              "  <div id=\"id_4ed3a293-e7c0-4a00-a738-348a1c66734b\">\n",
              "    <style>\n",
              "      .colab-df-generate {\n",
              "        background-color: #E8F0FE;\n",
              "        border: none;\n",
              "        border-radius: 50%;\n",
              "        cursor: pointer;\n",
              "        display: none;\n",
              "        fill: #1967D2;\n",
              "        height: 32px;\n",
              "        padding: 0 0 0 0;\n",
              "        width: 32px;\n",
              "      }\n",
              "\n",
              "      .colab-df-generate:hover {\n",
              "        background-color: #E2EBFA;\n",
              "        box-shadow: 0px 1px 2px rgba(60, 64, 67, 0.3), 0px 1px 3px 1px rgba(60, 64, 67, 0.15);\n",
              "        fill: #174EA6;\n",
              "      }\n",
              "\n",
              "      [theme=dark] .colab-df-generate {\n",
              "        background-color: #3B4455;\n",
              "        fill: #D2E3FC;\n",
              "      }\n",
              "\n",
              "      [theme=dark] .colab-df-generate:hover {\n",
              "        background-color: #434B5C;\n",
              "        box-shadow: 0px 1px 3px 1px rgba(0, 0, 0, 0.15);\n",
              "        filter: drop-shadow(0px 1px 2px rgba(0, 0, 0, 0.3));\n",
              "        fill: #FFFFFF;\n",
              "      }\n",
              "    </style>\n",
              "    <button class=\"colab-df-generate\" onclick=\"generateWithVariable('summary')\"\n",
              "            title=\"Generate code using this dataframe.\"\n",
              "            style=\"display:none;\">\n",
              "\n",
              "  <svg xmlns=\"http://www.w3.org/2000/svg\" height=\"24px\"viewBox=\"0 0 24 24\"\n",
              "       width=\"24px\">\n",
              "    <path d=\"M7,19H8.4L18.45,9,17,7.55,7,17.6ZM5,21V16.75L18.45,3.32a2,2,0,0,1,2.83,0l1.4,1.43a1.91,1.91,0,0,1,.58,1.4,1.91,1.91,0,0,1-.58,1.4L9.25,21ZM18.45,9,17,7.55Zm-12,3A5.31,5.31,0,0,0,4.9,8.1,5.31,5.31,0,0,0,1,6.5,5.31,5.31,0,0,0,4.9,4.9,5.31,5.31,0,0,0,6.5,1,5.31,5.31,0,0,0,8.1,4.9,5.31,5.31,0,0,0,12,6.5,5.46,5.46,0,0,0,6.5,12Z\"/>\n",
              "  </svg>\n",
              "    </button>\n",
              "    <script>\n",
              "      (() => {\n",
              "      const buttonEl =\n",
              "        document.querySelector('#id_4ed3a293-e7c0-4a00-a738-348a1c66734b button.colab-df-generate');\n",
              "      buttonEl.style.display =\n",
              "        google.colab.kernel.accessAllowed ? 'block' : 'none';\n",
              "\n",
              "      buttonEl.onclick = () => {\n",
              "        google.colab.notebook.generateWithVariable('summary');\n",
              "      }\n",
              "      })();\n",
              "    </script>\n",
              "  </div>\n",
              "\n",
              "    </div>\n",
              "  </div>\n"
            ],
            "application/vnd.google.colaboratory.intrinsic+json": {
              "type": "dataframe",
              "variable_name": "summary",
              "summary": "{\n  \"name\": \"summary\",\n  \"rows\": 8,\n  \"fields\": [\n    {\n      \"column\": \"Values\",\n      \"properties\": {\n        \"dtype\": \"number\",\n        \"std\": 353.5096483675114,\n        \"min\": -2.854154529240278,\n        \"max\": 1000.0,\n        \"num_unique_values\": 8,\n        \"samples\": [\n          -0.011451059656471736,\n          -0.005305910735224016,\n          1000.0\n        ],\n        \"semantic_type\": \"\",\n        \"description\": \"\"\n      }\n    }\n  ]\n}"
            }
          },
          "metadata": {},
          "execution_count": 27
        }
      ]
    },
    {
      "cell_type": "code",
      "source": [
        "# 16. Plot a boxplot to understand the spread and identify outliers.\n",
        "\n",
        "plt.boxplot(sim_data)\n",
        "plt.title('Boxplot')\n",
        "plt.show()"
      ],
      "metadata": {
        "colab": {
          "base_uri": "https://localhost:8080/",
          "height": 452
        },
        "id": "b_w0Rj_Mvmb5",
        "outputId": "a484a9bb-b2c9-43d0-cf37-4749d087909f"
      },
      "execution_count": null,
      "outputs": [
        {
          "output_type": "display_data",
          "data": {
            "text/plain": [
              "<Figure size 640x480 with 1 Axes>"
            ],
            "image/png": "[encoded data removed]"
          },
          "metadata": {}
        }
      ]
    },
    {
      "cell_type": "code",
      "source": [
        "# 17. Calculate the interquartile range (IQR) of a dataset.\n",
        "\n",
        "Q1 = np.percentile(sim_data, 25)\n",
        "Q3 = np.percentile(sim_data, 75)\n",
        "IQR = Q3 - Q1\n",
        "\n",
        "IQR"
      ],
      "metadata": {
        "colab": {
          "base_uri": "https://localhost:8080/"
        },
        "id": "lGiVArruvyIq",
        "outputId": "926741f2-e71a-4c1b-9af8-4d7d67b7f5db"
      },
      "execution_count": null,
      "outputs": [
        {
          "output_type": "execute_result",
          "data": {
            "text/plain": [
              "np.float64(1.3195684642440995)"
            ]
          },
          "metadata": {},
          "execution_count": 29
        }
      ]
    },
    {
      "cell_type": "code",
      "source": [
        "# 18. Implement Z-score normalization and explain its significance.\n",
        "\n",
        "z_scores = (sim_data - np.mean(sim_data)) / np.std(sim_data)\n",
        "\n",
        "# Z-score normalization transforms data into a distribution with a mean of 0 and standard deviation of 1.\n",
        "z_scores"
      ],
      "metadata": {
        "colab": {
          "base_uri": "https://localhost:8080/"
        },
        "id": "aW7kQJwJv8Qr",
        "outputId": "52d90708-fa39-4233-9706-fec702b1d4ed"
      },
      "execution_count": null,
      "outputs": [
        {
          "output_type": "execute_result",
          "data": {
            "text/plain": [
              "array([-2.98567698e-01, -1.16880357e+00,  7.63158946e-01,  1.08044568e-01,\n",
              "        8.94598823e-02,  1.06729272e+00,  7.69429416e-01,  8.74226143e-01,\n",
              "       -1.04309355e-01, -6.94881762e-02,  2.96633671e-01,  3.85996950e-01,\n",
              "        3.43287441e-02,  1.00064955e-01, -1.01295567e+00,  8.03250859e-01,\n",
              "        2.06423680e-01, -5.78080461e-01, -1.25476114e+00, -4.89777944e-01,\n",
              "        1.82828208e-01, -2.28705516e+00, -5.05377313e-01,  5.06360153e-01,\n",
              "        1.47490662e+00, -4.89651492e-01,  6.89627042e-01, -4.00295230e-01,\n",
              "        7.31698121e-02, -1.38791942e+00, -1.62492813e+00, -3.93176274e-01,\n",
              "        6.64362580e-03, -1.03416444e+00, -1.41038501e+00, -5.22328292e-01,\n",
              "        5.85791433e-01,  5.46809568e-01,  1.05561464e+00,  1.26459809e+00,\n",
              "       -2.23736330e-01, -7.71890964e-01, -5.60427416e-01,  3.21346835e-02,\n",
              "       -1.70664407e+00,  1.52875775e-01, -9.44868004e-01,  1.29447862e+00,\n",
              "        1.50829120e+00, -9.61622656e-01, -1.54115643e+00,  4.42382568e-01,\n",
              "        2.08359171e+00,  1.04607046e+00,  1.49425795e+00,  1.95818016e-01,\n",
              "        1.00389250e+00, -9.96890127e-01, -8.49727485e-01,  1.11764708e+00,\n",
              "        6.15613400e-01,  7.76155288e-01,  3.66137416e-03, -3.53443432e-04,\n",
              "       -3.71641948e-01,  1.90883521e+00, -7.24860195e-01,  5.35195344e-01,\n",
              "        2.15299820e+00, -1.31821788e+00, -1.40817411e+00,  7.87825685e-01,\n",
              "        4.94130899e-01,  5.79704854e-01,  9.20528017e-01,  1.21701605e+00,\n",
              "        1.64469312e+00,  8.45354584e-01, -3.89998460e-01, -1.12956620e+00,\n",
              "       -1.39189913e+00, -1.40752947e-01,  8.84690026e-01, -1.02030234e+00,\n",
              "        9.92602686e-01, -7.71651698e-01, -2.00876114e+00,  3.65603868e-02,\n",
              "        5.76268592e-01, -6.46468334e-01, -4.12957995e-01, -1.70681822e-01,\n",
              "       -9.06100104e-01,  2.53702507e+00,  4.20812631e-01, -3.91307472e-01,\n",
              "       -9.49578265e-01, -2.04666197e+00,  1.00167334e+00,  1.27629437e+00,\n",
              "        1.88802911e+00, -3.78154746e-01,  1.28051331e+00,  3.75653116e-01,\n",
              "        4.52223790e-01, -1.35812337e+00,  6.94165916e-01, -3.92367795e-02,\n",
              "        1.96400703e+00,  3.63673616e-01, -2.80264527e-01, -3.99038227e-01,\n",
              "       -8.78474260e-01,  1.43248150e+00, -7.59227533e-02,  6.52943852e-01,\n",
              "       -7.80481711e-01,  2.77868990e+00,  1.26348564e+00, -2.96886899e-01,\n",
              "        9.98663224e-02,  2.93249742e-01,  5.84566339e-02, -3.12112851e-01,\n",
              "        1.76752895e-01, -2.74115219e-01, -1.07118642e+00,  2.26359970e-01,\n",
              "       -1.17770540e+00,  4.32924826e-01,  4.40621726e-01, -6.65236053e-02,\n",
              "        2.81987715e-01, -5.08175651e-01,  1.61481387e-01, -2.21198084e+00,\n",
              "        7.75449845e-01, -7.86228107e-02, -1.37923637e+00,  6.24991576e-01,\n",
              "       -8.67305033e-01, -2.08524565e-02, -1.67566007e+00,  2.00666827e+00,\n",
              "        2.05329018e-01,  5.78631360e-03,  8.56608249e-01, -2.24497490e-01,\n",
              "        7.52096243e-03,  7.63497742e-01,  1.52765704e+00, -4.05640692e-01,\n",
              "       -1.91484062e+00, -4.63657511e-01,  9.25876484e-01,  1.02665494e+00,\n",
              "        4.52456729e-01,  1.17688348e+00,  1.18417525e+00,  1.96611832e+00,\n",
              "        2.08182352e+00, -7.18238897e-01, -2.22929442e+00,  6.89556112e-01,\n",
              "       -7.28471699e-01, -1.15982867e+00, -1.24431717e+00,  2.54371864e-01,\n",
              "       -1.90777797e+00,  2.08897532e-01,  6.00688697e-01, -8.99667216e-01,\n",
              "        9.74213505e-01, -7.63988962e-01,  1.40425144e+00,  3.20076416e-01,\n",
              "       -2.32779694e+00,  4.61838212e-01,  2.64543977e+00, -6.20579649e-01,\n",
              "       -1.91053731e-01,  9.85146137e-02,  3.25734179e-01,  1.97786726e-03,\n",
              "        9.72734970e-01, -1.06773160e+00,  5.01827562e-01, -2.15028775e-01,\n",
              "        3.45655089e-01,  3.07362793e-01, -1.29608872e+00, -1.46551016e-01,\n",
              "       -1.71829690e-01, -1.08123419e+00,  6.46830954e-01,  9.94091042e-01,\n",
              "        8.26813909e-01,  1.99478167e+00, -1.26005386e+00,  3.41420666e-01,\n",
              "        8.61792534e-01,  2.25316778e-01, -1.02050841e+00, -3.62155072e-01,\n",
              "       -2.50086992e-01,  3.57056354e-01,  5.59784723e-02,  2.49366352e+00,\n",
              "       -3.64010190e-01, -6.38933003e-01, -1.53699122e+00,  1.15588229e+00,\n",
              "       -9.37603618e-01,  9.75660142e-01,  4.13280032e-01, -1.04062346e+00,\n",
              "       -4.55161796e-01, -5.05409456e-02,  8.55111339e-01,  2.05856733e+00,\n",
              "       -2.31521952e-01,  2.29893576e-01,  1.01830917e-01,  1.95106442e-01,\n",
              "       -1.65804707e-01, -1.23659138e-01, -5.71898034e-01, -1.44905249e-01,\n",
              "        2.40719039e+00, -1.04313116e-01, -6.06567284e-01, -1.03612822e+00,\n",
              "       -1.78617246e+00, -5.36931259e-01,  1.01614731e-01, -6.99195705e-01,\n",
              "        1.81947928e-02,  2.41925216e-01, -2.65938681e-01,  1.45792221e+00,\n",
              "       -1.71996402e+00, -3.51095349e-01,  6.36368575e-01, -8.29060002e-01,\n",
              "       -1.78381443e+00, -2.94777380e-01, -6.59946972e-01, -3.47337770e-01,\n",
              "       -6.74655127e-01, -5.81513138e-01, -1.28929102e+00,  2.31872090e-02,\n",
              "       -6.29845826e-01,  1.04726565e+00, -2.91679041e-01,  4.93258800e-01,\n",
              "        1.13820995e+00,  2.33175318e+00, -1.06419565e-01,  5.65471820e-01,\n",
              "       -8.76819671e-01, -1.09209702e+00, -1.65259621e+00,  6.62390565e-01,\n",
              "        9.41299572e-02, -3.33187558e-01, -9.22290147e-02,  6.47064773e-01,\n",
              "        1.69064087e-01,  2.53824301e-02,  7.94549929e-01, -1.30213332e-01,\n",
              "        8.22491410e-01, -3.29728899e-01,  1.30531435e+00, -1.14125835e+00,\n",
              "        1.17290965e+00,  1.00048966e+00,  5.64475147e-01,  6.93877253e-01,\n",
              "       -1.01128988e+00,  5.11656765e-01,  7.21453811e-01, -1.69699360e+00,\n",
              "       -1.04498781e+00,  1.89010328e+00, -1.12070201e+00, -4.87754064e-01,\n",
              "        5.11246444e-01,  7.51678370e-01,  7.98804323e-01, -1.02603985e-01,\n",
              "        9.27880392e-01, -1.12980068e-01, -5.84485700e-01, -8.18227028e-01,\n",
              "       -9.42483598e-01,  1.17964533e+00,  1.14269953e+00,  1.32276567e+00,\n",
              "       -8.29174235e-01,  8.43499649e-01,  6.95905598e-01, -5.83241218e-01,\n",
              "       -3.78550376e-01, -1.35706949e+00,  1.02247381e-01,  2.38305760e+00,\n",
              "        9.47960872e-01, -4.53684423e-01, -2.28200257e+00, -8.82091453e-01,\n",
              "        5.06450504e-01, -2.45776701e-01, -1.65414029e+00,  6.83045734e-01,\n",
              "        2.01829924e-01, -1.40540299e+00,  6.60167280e-01, -3.98398559e-01,\n",
              "        4.91496001e-01,  6.55549042e-01, -3.47483008e-01,  2.77470483e-01,\n",
              "       -3.54228930e-01, -2.17915409e-01, -8.38826641e-01, -1.54002397e+00,\n",
              "       -9.67439893e-01,  6.56755638e-01, -3.33187282e-01, -9.49590940e-01,\n",
              "        1.65641030e-01,  1.82537269e+00, -1.19767172e+00,  1.56138485e+00,\n",
              "       -4.25430596e-01, -3.79176734e-01, -2.29237984e-01, -6.38544950e-01,\n",
              "       -1.67285954e-01, -1.42049184e+00,  7.32724523e-01, -6.45765590e-01,\n",
              "       -1.16149711e+00,  6.49793798e-01, -1.01683945e-01, -5.81403912e-01,\n",
              "        8.49896904e-01, -4.85993763e-01, -3.25507203e-01,  5.87950762e-01,\n",
              "       -3.00082338e-01,  8.15893822e-02,  2.70110555e-01,  3.85788025e-01,\n",
              "        1.12605471e+00,  1.63017975e+00, -4.48309303e-01,  2.90756270e-01,\n",
              "       -7.37178770e-01,  5.56896998e-01, -4.95184078e-01, -8.84687910e-03,\n",
              "        9.00987103e-01,  7.94729477e-02, -7.48770302e-02,  1.03001472e+00,\n",
              "        2.28542769e-01, -4.69120997e-01,  5.92307069e-02,  1.07703634e+00,\n",
              "       -1.69208224e-02,  7.14041649e-01, -7.46602071e-02,  4.61138358e-02,\n",
              "       -5.17496808e-01, -1.37597834e+00, -8.54460628e-01,  1.67348098e-01,\n",
              "        2.08975417e-01,  6.33906833e-01, -5.79925330e-01, -4.14945905e-01,\n",
              "        1.06720669e+00,  1.02405788e+00, -1.77113953e-01,  5.77632741e-02,\n",
              "       -2.43057396e-01,  4.61737116e-02, -4.41191946e-01,  1.20118052e+00,\n",
              "        1.87479599e+00, -6.30830759e-01,  1.59642710e-01,  7.78050718e-01,\n",
              "        1.65798893e-01, -3.13936291e-01,  3.15806098e-01, -8.39823490e-01,\n",
              "       -3.72942403e-01,  1.59588717e+00, -8.09390272e-01, -3.20314128e-01,\n",
              "       -1.94359398e+00,  4.19629845e-01,  5.42156614e-01,  9.91690623e-01,\n",
              "        4.72094729e-01,  1.32900733e+00,  1.06880885e+00, -8.30444032e-01,\n",
              "       -1.70619121e+00, -7.83852948e-02,  7.84876740e-01, -1.02093976e-01,\n",
              "        7.08983134e-01,  1.72904688e+00, -7.22548180e-01, -3.31535219e-01,\n",
              "       -3.86589317e-01,  2.62111884e-01, -5.60745635e-01,  8.09489297e-01,\n",
              "       -1.24444198e+00, -2.68590403e-01,  1.86657003e+00,  1.51988380e-01,\n",
              "        2.16790021e-01,  4.98621691e-01,  5.27752906e-01, -6.91323610e-01,\n",
              "       -3.29460129e-01,  2.78468537e-01,  2.90251639e-01, -1.61364811e+00,\n",
              "        6.98275196e-01, -8.72158684e-01,  7.95738952e-01, -2.10456521e+00,\n",
              "       -3.42913715e-02,  1.14675069e+00,  6.84436814e-01,  9.22152242e-01,\n",
              "       -1.08560021e+00, -6.12682358e-01, -1.04694968e+00,  3.06765272e-01,\n",
              "       -1.81315148e+00, -1.52319655e+00,  1.88627776e+00,  1.51812316e-01,\n",
              "       -1.20675922e-01,  7.23098407e-01, -8.17871120e-01,  2.58218721e-01,\n",
              "       -4.49267877e-02,  1.63893490e-02,  3.50037949e-01,  3.46137306e-01,\n",
              "       -2.34671261e+00,  4.21614946e-02, -7.39135073e-01, -5.89990377e-01,\n",
              "       -2.72768958e-01,  1.85669247e+00, -6.94638108e-01, -9.63012596e-01,\n",
              "        6.39849940e-01, -1.53758781e+00, -1.30879049e-01, -1.20471158e-01,\n",
              "       -2.30636071e-01,  2.19007511e+00, -7.44066449e-01, -1.36320509e-01,\n",
              "       -9.25989730e-02, -7.58217500e-02,  3.95574485e-01, -6.93512513e-01,\n",
              "        8.32428649e-01,  5.52645391e-01,  4.77034962e-03,  2.45411259e-01,\n",
              "        7.12576467e-01,  9.28051641e-01, -4.88615690e-01, -1.48747067e+00,\n",
              "       -1.47287422e-01,  1.00394863e+00,  1.21889733e-01, -6.71707823e-01,\n",
              "        1.03197917e+00, -2.78388456e-01,  1.26509371e+00,  5.69657045e-01,\n",
              "       -1.10923304e+00,  7.54867650e-01,  1.74263666e-01,  7.47383503e-01,\n",
              "       -6.91769585e-02, -4.04283994e-01, -2.62144537e+00, -2.03150101e-01,\n",
              "       -1.75675919e+00,  5.64336463e-01, -9.10997863e-01, -3.72656285e-01,\n",
              "        4.80482202e-01, -2.87500208e+00,  3.91541097e-01,  5.94401267e-01,\n",
              "        1.20874595e+00,  2.68674197e+00, -7.82431437e-01, -3.64710579e-01,\n",
              "       -2.08893716e-01,  6.12104130e-01, -9.20000152e-01, -5.87055997e-01,\n",
              "       -2.30267917e-01, -9.02304167e-02,  4.67165011e-02,  1.53117305e+00,\n",
              "        9.06085324e-01, -8.79911989e-01, -1.01661080e+00, -1.21477148e+00,\n",
              "        4.27493718e-01, -3.43384730e-02,  4.54077672e-02,  1.02725018e-01,\n",
              "       -2.84371627e-02,  8.82734141e-01, -9.37531025e-01,  1.21491568e+00,\n",
              "       -7.55643276e-01,  3.94917322e-01, -3.49270849e-01,  2.87206024e+00,\n",
              "        1.50206691e-01, -8.00547442e-01,  9.32808270e-01, -1.17138290e-01,\n",
              "        1.72805643e+00,  4.05556321e-01,  5.78422023e-01, -6.03424227e-01,\n",
              "       -1.20596795e+00, -6.43659569e-01, -6.36784979e-01,  3.81314789e-01,\n",
              "        4.01124557e-01, -5.72046773e-02,  1.10573955e-01, -4.55812849e-02,\n",
              "        1.13896840e+00, -6.13420608e-02, -1.08647240e+00,  2.32670575e-02,\n",
              "       -1.19683745e+00, -1.03620383e+00, -2.63623810e-01, -8.33523052e-02,\n",
              "       -1.10143927e+00, -1.30234369e+00, -1.15841825e+00, -4.33840831e-01,\n",
              "       -7.55735149e-01,  8.03360742e-01, -2.67476438e-01,  2.08305330e-02,\n",
              "       -1.50588815e+00,  2.22441049e-01,  1.11655647e+00, -5.89592533e-01,\n",
              "        1.20214328e+00, -4.63216931e-01, -4.01873385e-01,  1.11007953e+00,\n",
              "        7.44219109e-01, -4.19895575e-01, -2.16828765e-01, -2.69700564e-01,\n",
              "       -2.13895660e-01, -3.65913079e-01,  4.59316973e-01,  1.37375387e+00,\n",
              "       -1.37774777e+00,  9.63029005e-01,  9.56569949e-01,  5.81796806e-01,\n",
              "        7.23237242e-01,  3.38451948e-01,  8.81420253e-02,  1.86297863e-01,\n",
              "       -1.43733171e-01, -1.30826650e+00,  1.61267403e+00,  2.15323516e+00,\n",
              "       -2.52814115e+00,  3.86741160e-01, -5.89978919e-01, -4.49114481e-01,\n",
              "        3.04848053e-01,  2.50241860e-01, -1.50547128e+00, -1.62422952e+00,\n",
              "        1.29316861e+00,  5.05470558e-01,  3.91586542e-01, -1.33918559e-01,\n",
              "       -4.76310338e-01,  7.72672463e-02, -1.82655561e+00,  1.14653691e+00,\n",
              "        1.24274825e+00, -1.10423641e-01, -9.69433311e-01,  1.74919770e+00,\n",
              "        2.77617827e-01, -5.76299068e-01, -2.03653909e-02, -4.80645603e-01,\n",
              "       -3.57705306e-01,  7.19738243e-01, -8.77407270e-01,  5.39253992e-01,\n",
              "        5.54210529e-01,  7.52087630e-01,  3.00201315e-01, -3.38660534e-01,\n",
              "        8.58068874e-01,  8.48368113e-01, -9.74500433e-02, -2.72378105e-01,\n",
              "        4.29454272e-01, -2.69013142e-01,  5.67023307e-01, -3.83039664e-01,\n",
              "       -2.69418422e-01, -2.71677196e+00,  2.71708305e-01,  1.13408154e+00,\n",
              "       -1.57190210e+00,  3.75884859e-01,  1.06351567e+00,  2.43483754e-01,\n",
              "       -2.96672422e-01, -5.31317915e-01,  1.47318577e+00, -1.27169336e-01,\n",
              "       -2.57067578e-01, -5.98166967e-02,  6.88301041e-01, -1.51109792e-02,\n",
              "       -9.75226326e-01, -5.49781844e-01,  1.11924366e-01, -1.72381578e+00,\n",
              "        1.82681829e+00,  6.38145066e-01,  6.95653545e-02,  8.12455609e-02,\n",
              "        3.16274123e-01,  9.34751758e-01,  5.25768871e-01, -1.30850050e+00,\n",
              "        2.06464532e-01, -4.58935124e-02, -8.92043618e-01,  2.31414302e-01,\n",
              "       -8.61771603e-01,  2.26540914e+00,  4.96019044e-01, -2.43349110e+00,\n",
              "        1.09500028e+00, -1.81301980e+00,  1.29010989e+00,  3.84512271e-02,\n",
              "       -5.80721367e-01,  7.29114808e-01,  1.38947961e+00, -7.19511053e-01,\n",
              "       -1.51629234e+00, -5.24247665e-01,  6.12938140e-01,  6.75891031e-01,\n",
              "       -4.04940555e-01, -1.31444783e+00, -5.60294391e-01,  4.89074018e-01,\n",
              "        1.69404959e-01,  1.18467614e+00, -1.03514091e+00,  3.78248718e-01,\n",
              "       -1.52280242e+00,  2.63221544e-01,  9.79852699e-01, -7.78709347e-01,\n",
              "       -1.15732701e+00, -5.68293274e-01,  2.56455368e-01,  1.19979451e+00,\n",
              "        1.09595922e+00,  1.21565156e-01,  4.99368117e-01,  1.22946778e-01,\n",
              "       -1.15709568e+00,  9.32266083e-01, -4.20679770e-01,  5.68908206e-01,\n",
              "       -1.30362254e+00,  2.26143642e-01, -2.12673909e+00, -9.60853584e-01,\n",
              "       -1.50013739e+00,  5.49951247e-01, -2.49160902e-01, -6.61471014e-01,\n",
              "        1.11788196e+00, -1.02708476e+00,  4.21436596e-01,  8.98587526e-01,\n",
              "       -1.12175016e+00, -2.74831186e+00, -4.38883718e-01, -1.56045089e+00,\n",
              "        2.07330229e-02,  1.49769057e+00,  1.89244766e+00,  4.67194511e-02,\n",
              "        6.37807378e-02,  2.64272109e-01,  8.11061605e-01,  1.47616345e+00,\n",
              "       -8.32066740e-02, -1.40119182e+00, -1.36753948e+00,  5.83122855e-01,\n",
              "       -6.78230929e-03, -1.54303359e+00,  7.67173985e-01, -5.56273742e-01,\n",
              "       -6.25854001e-01,  1.17145066e+00,  2.83508901e-01,  6.52831143e-01,\n",
              "       -8.99748659e-01,  1.69106767e+00, -1.62384476e+00,  1.83397915e-01,\n",
              "       -2.00318588e+00, -2.94762097e-01, -5.19001327e-01, -1.00485551e+00,\n",
              "       -3.06769909e-01,  2.20920662e+00, -2.60333894e-01,  1.41224281e+00,\n",
              "       -3.27097257e-01, -2.30155962e-01, -3.84332353e-01,  1.19712072e-01,\n",
              "        5.60657658e-01, -8.41731421e-01, -5.35032780e-01, -1.20172770e+00,\n",
              "        8.71477078e-01, -2.14835892e+00, -1.92728375e+00, -1.29209099e+00,\n",
              "       -1.55421902e+00,  6.77431345e-01, -1.69731419e+00,  1.70000810e+00,\n",
              "       -8.95253509e-01,  4.46947635e-01,  1.82828050e+00,  7.39740013e-01,\n",
              "        5.46815782e-01,  1.61865830e+00,  4.45013401e-01, -1.03809148e+00,\n",
              "        1.46038917e+00, -5.68064122e-01,  1.43993594e+00, -1.54045356e+00,\n",
              "        1.02574549e+00,  1.47209305e-01,  1.30246443e+00,  1.34551930e+00,\n",
              "        4.38255833e-02,  5.86759556e-01, -2.18350500e-01, -1.71501162e+00,\n",
              "        3.22087252e-01, -2.13107031e-01,  1.15913031e+00, -6.72124261e-01,\n",
              "       -6.13164767e-01, -6.72781463e-01, -3.28594877e-01, -1.87295008e+00,\n",
              "        6.56309648e-01, -1.07946300e-01, -8.67102670e-01, -2.14583472e+00,\n",
              "        1.04309405e+00,  2.07969258e+00, -8.36049614e-02,  2.80483001e+00,\n",
              "        7.16036940e-01, -1.16177942e+00,  8.09113156e-01,  7.33310630e-01,\n",
              "       -1.89701984e+00,  1.21350980e+00,  6.57179219e-01,  6.86338737e-01,\n",
              "        3.72568014e-01,  3.35707287e-01,  2.43335784e+00, -1.03967479e+00,\n",
              "        1.15543672e+00,  2.11955589e+00,  1.02658132e+00,  6.50302290e-01,\n",
              "        2.07910506e+00, -4.20828816e-01, -2.53881261e-02, -7.47822753e-01,\n",
              "        3.19290125e-01,  1.99537213e+00,  5.52817033e-01, -7.02681389e-01,\n",
              "       -4.48385503e-01, -2.37276020e-01,  5.60659809e-01, -1.16361809e+00,\n",
              "       -1.53738757e+00, -1.70078638e+00, -7.01111341e-01, -5.25121175e-01,\n",
              "        4.16411979e-01, -8.08334931e-01,  5.55878538e-03, -9.87336786e-01,\n",
              "        4.20403832e-01,  1.80379558e+00, -1.92444077e+00, -1.39785479e+00,\n",
              "        1.06615489e+00,  1.05728638e+00,  3.79520171e-01,  5.95973597e-01,\n",
              "       -8.23969117e-01, -1.01514708e+00, -2.10366516e+00,  4.95678979e-01,\n",
              "       -9.29979422e-01,  4.21307299e-01, -1.04151915e+00, -2.01213043e+00,\n",
              "        2.14057159e+00, -1.34863971e+00,  2.76769202e-01, -3.24736212e-01,\n",
              "       -2.49263830e-02, -1.22588010e+00, -7.01384422e-01,  6.68451050e-02,\n",
              "       -1.58902034e+00,  1.20144270e+00, -2.36192745e+00, -5.66532352e-01,\n",
              "       -3.02778370e-01, -5.12938867e-01,  3.98790720e-01,  1.34276363e+00,\n",
              "       -8.17029133e-01,  4.70658813e-01, -6.03529101e-01, -4.73735958e-01,\n",
              "        1.45960841e+00, -1.09041639e+00,  1.99994033e+00,  1.01993042e+00,\n",
              "        2.51553375e-01,  6.85589003e-01, -9.26253954e-01, -1.12604110e+00,\n",
              "        1.35257475e+00,  8.77478683e-01,  8.85519989e-01,  3.53472000e-01,\n",
              "       -2.71248224e-01,  9.86618770e-01, -1.40580680e+00, -5.19288888e-01,\n",
              "        9.93354370e-01,  5.74881555e-01, -1.93027113e+00,  1.32852442e-01,\n",
              "        7.66120602e-01, -1.23720973e+00, -7.95553242e-01, -4.26728184e-01,\n",
              "       -1.43695967e+00,  2.28290787e-01, -9.86454686e-01,  4.72195621e-01,\n",
              "        6.91191060e-01,  1.23927316e+00, -1.17843682e+00, -2.91936317e-01,\n",
              "       -9.41893838e-02, -6.68429690e-01,  6.92031764e-01,  1.42792015e+00,\n",
              "        1.12004150e+00,  9.84391060e-02,  9.62002561e-02, -6.38081565e-01,\n",
              "        1.00890550e+00,  5.00575732e-02,  1.29666483e-01,  8.79226941e-01,\n",
              "       -5.84614656e-02,  6.58966100e-02, -3.69167995e-01,  2.18815719e+00,\n",
              "        1.17903562e+00,  2.69148571e-01,  1.15301608e+00,  9.66246454e-01,\n",
              "       -1.78029335e+00,  5.93410935e-01, -6.69251726e-01, -8.40562380e-01,\n",
              "        1.33449648e+00,  2.11449067e+00,  2.19226424e+00, -4.89287956e-01,\n",
              "       -1.08538657e+00,  5.13309281e-01, -2.80284207e-01, -1.07136888e+00,\n",
              "       -2.74422347e+00,  9.73227054e-01,  2.10153816e+00, -1.18935181e+00,\n",
              "       -9.14779892e-01, -1.07307482e+00, -1.32357614e+00,  3.48494559e-01,\n",
              "       -1.58395953e+00, -4.41306371e-01, -4.81680202e-01,  3.62139685e-01,\n",
              "       -1.22819788e+00,  2.65275970e+00,  1.32322607e+00,  1.42075543e+00,\n",
              "        1.79619349e-01, -2.00378736e+00,  5.89260094e-01, -1.52070878e+00,\n",
              "       -6.91131873e-01, -1.42510951e+00,  1.07402631e+00, -6.12223879e-02,\n",
              "        6.12390678e-01, -3.80176026e-01,  1.28655442e-01, -1.11564942e+00,\n",
              "       -5.88850420e-01, -1.93415690e+00, -7.34792642e-02,  4.53215559e-01,\n",
              "       -3.61451980e-01, -1.53272561e+00,  1.01388051e+00,  1.52755467e+00,\n",
              "        1.75515277e+00,  4.24671314e-02,  6.73680766e-01, -6.39804193e-01,\n",
              "       -7.96826953e-01,  2.05292219e-01, -3.91058696e-01,  1.41873623e-01,\n",
              "       -5.68199678e-02, -1.16229418e+00,  1.12154149e+00, -9.02281479e-01,\n",
              "       -5.84671382e-01,  6.61968053e-01, -1.34953710e+00,  1.10717193e+00])"
            ]
          },
          "metadata": {},
          "execution_count": 30
        }
      ]
    },
    {
      "cell_type": "code",
      "source": [
        "# 19. Compare two datasets using their standard deviations.\n",
        "\n",
        "data1 = np.random.normal(0, 1, 1000)\n",
        "data2 = np.random.normal(0, 2, 1000)\n",
        "\n",
        "std_dev_data1 = np.std(data1)\n",
        "std_dev_data2 = np.std(data2)\n",
        "\n",
        "std_dev_data1, std_dev_data2"
      ],
      "metadata": {
        "colab": {
          "base_uri": "https://localhost:8080/"
        },
        "id": "hguTx1-iwF3L",
        "outputId": "26d8ac0c-099e-44f7-dec8-83a8a7f7c7ac"
      },
      "execution_count": null,
      "outputs": [
        {
          "output_type": "execute_result",
          "data": {
            "text/plain": [
              "(np.float64(0.9902425020233258), np.float64(1.9235853506634697))"
            ]
          },
          "metadata": {},
          "execution_count": 31
        }
      ]
    },
    {
      "cell_type": "code",
      "source": [
        "# 20. Write a Python program to visualize covariance using a heatmap.\n",
        "\n",
        "import seaborn as sns\n",
        "\n",
        "cov_matrix = np.cov(data1, data2)\n",
        "sns.heatmap(cov_matrix, annot=True)\n",
        "plt.title('Covariance Heatmap')\n",
        "plt.show()"
      ],
      "metadata": {
        "colab": {
          "base_uri": "https://localhost:8080/",
          "height": 452
        },
        "id": "eReXvV3QwReD",
        "outputId": "14a58129-a5d9-4e5b-855e-b40ebffa1391"
      },
      "execution_count": null,
      "outputs": [
        {
          "output_type": "display_data",
          "data": {
            "text/plain": [
              "<Figure size 640x480 with 2 Axes>"
            ],
            "image/png": "[encoded data removed]"
          },
          "metadata": {}
        }
      ]
    },
    {
      "cell_type": "code",
      "source": [
        "# 21. Use seaborn to create a correlation matrix for a dataset.\n",
        "\n",
        "corr_matrix = np.corrcoef(data1, data2)\n",
        "sns.heatmap(corr_matrix, annot=True)\n",
        "plt.title('Correlation Matrix')\n",
        "plt.show()\n"
      ],
      "metadata": {
        "colab": {
          "base_uri": "https://localhost:8080/",
          "height": 452
        },
        "id": "PlZ46YNnwbdb",
        "outputId": "bfaed41f-5253-4063-8e4f-cfff85610378"
      },
      "execution_count": null,
      "outputs": [
        {
          "output_type": "display_data",
          "data": {
            "text/plain": [
              "<Figure size 640x480 with 2 Axes>"
            ],
            "image/png": "[encoded data removed]"
          },
          "metadata": {}
        }
      ]
    },
    {
      "cell_type": "code",
      "source": [
        "# 22. Generate a dataset and implement both variance and standard deviation computations.\n",
        "\n",
        "new_data = np.random.normal(0, 1, 1000)\n",
        "variance = np.var(new_data)\n",
        "std_dev = np.std(new_data)\n",
        "\n",
        "variance, std_dev\n",
        "\n"
      ],
      "metadata": {
        "colab": {
          "base_uri": "https://localhost:8080/"
        },
        "id": "x5it4-SwwlnM",
        "outputId": "3d82705d-2823-4bb0-dfdd-759a5d88dde6"
      },
      "execution_count": null,
      "outputs": [
        {
          "output_type": "execute_result",
          "data": {
            "text/plain": [
              "(np.float64(1.0347551808990079), np.float64(1.017229168328852))"
            ]
          },
          "metadata": {},
          "execution_count": 34
        }
      ]
    },
    {
      "cell_type": "code",
      "source": [
        "# 23. Visualize skewness and kurtosis using Python libraries.\n",
        "\n",
        "fig, ax = plt.subplots(1, 2, figsize=(12, 6))\n",
        "sns.histplot(new_data, kde=True, ax=ax[0])\n",
        "ax[0].set_title('Histogram')\n",
        "ax[1].set_title('Boxplot')\n",
        "sns.boxplot(x=new_data, ax=ax[1])\n",
        "plt.show()"
      ],
      "metadata": {
        "colab": {
          "base_uri": "https://localhost:8080/",
          "height": 545
        },
        "id": "eLh9bVJYwvqW",
        "outputId": "51b5dca7-62b6-4d80-f78c-8e8c701bbbab"
      },
      "execution_count": null,
      "outputs": [
        {
          "output_type": "display_data",
          "data": {
            "text/plain": [
              "<Figure size 1200x600 with 2 Axes>"
            ],
            "image/png": "[encoded data removed]"
          },
          "metadata": {}
        }
      ]
    },
    {
      "cell_type": "code",
      "source": [
        "# 24. Implement the pearson and spearman correlation coefficients for a dataset.\n",
        "\n",
        "pearson_corr = np.corrcoef(x, y)\n",
        "spearman_corr = s.spearmanr(x, y)\n",
        "\n",
        "pearson_corr, spearman_corr\n"
      ],
      "metadata": {
        "id": "5ex2G7SiMBWJ"
      },
      "execution_count": 53,
      "outputs": []
    },
    {
      "cell_type": "code",
      "source": [],
      "metadata": {
        "id": "k76QWQKlO6cV"
      },
      "execution_count": null,
      "outputs": []
    }
  ]
}